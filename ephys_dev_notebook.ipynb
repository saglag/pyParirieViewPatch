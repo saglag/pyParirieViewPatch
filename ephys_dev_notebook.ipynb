{
 "cells": [
  {
   "cell_type": "code",
   "execution_count": 2,
   "metadata": {
    "collapsed": true
   },
   "outputs": [
    {
     "ename": "ModuleNotFoundError",
     "evalue": "No module named 'matplotlib'",
     "output_type": "error",
     "traceback": [
      "\u001B[0;31m---------------------------------------------------------------------------\u001B[0m",
      "\u001B[0;31mModuleNotFoundError\u001B[0m                       Traceback (most recent call last)",
      "Cell \u001B[0;32mIn[2], line 2\u001B[0m\n\u001B[1;32m      1\u001B[0m \u001B[38;5;28;01mimport\u001B[39;00m \u001B[38;5;21;01mpandas\u001B[39;00m \u001B[38;5;28;01mas\u001B[39;00m \u001B[38;5;21;01mpd\u001B[39;00m\n\u001B[0;32m----> 2\u001B[0m \u001B[38;5;28;01mimport\u001B[39;00m \u001B[38;5;21;01mmatplotlib\u001B[39;00m\u001B[38;5;21;01m.\u001B[39;00m\u001B[38;5;21;01mpyplot\u001B[39;00m \u001B[38;5;28;01mas\u001B[39;00m \u001B[38;5;21;01mplt\u001B[39;00m\n\u001B[1;32m      3\u001B[0m \u001B[38;5;28;01mimport\u001B[39;00m \u001B[38;5;21;01mxml\u001B[39;00m\u001B[38;5;21;01m.\u001B[39;00m\u001B[38;5;21;01metree\u001B[39;00m\u001B[38;5;21;01m.\u001B[39;00m\u001B[38;5;21;01mElementTree\u001B[39;00m \u001B[38;5;28;01mas\u001B[39;00m \u001B[38;5;21;01mET\u001B[39;00m\n\u001B[1;32m      5\u001B[0m file_name \u001B[38;5;241m=\u001B[39m \u001B[38;5;124m'\u001B[39m\u001B[38;5;124m/mnt/raw_data/01_tiff_stacks/2022-12-15/patch_voltage-001/patch_voltage-001_Cycle00001_VoltageRecording_001.csv\u001B[39m\u001B[38;5;124m'\u001B[39m\n",
      "\u001B[0;31mModuleNotFoundError\u001B[0m: No module named 'matplotlib'"
     ]
    }
   ],
   "source": [
    "import pandas as pd\n",
    "import matplotlib.pyplot as plt\n",
    "import xml.etree.ElementTree as ET\n",
    "\n",
    "file_name = '/mnt/raw_data/01_tiff_stacks/2022-12-15/patch_voltage-001/patch_voltage-001_Cycle00001_VoltageRecording_001.csv'\n",
    "recording = pd.read_table(file_name, sep=r',', skipinitialspace=True)\n",
    "print(recording.head())\n",
    "# calculate the median value of the Command column\n",
    "median = recording['Command'].median()\n",
    "\n",
    "# subtract the median from each value in the Command column\n",
    "recording['Command'] = recording['Command'] - median\n",
    "xml_file_name = '/mnt/raw_data/00_raw_data/2022-12-15/patch_voltage-008/patch_voltage-008_Cycle00001_VoltageRecording_001.xml'\n",
    "tree = ET.parse(xml_file_name)\n",
    "root = tree.getroot()\n",
    "# create a dictionary of dictionaries for each VRecSignal node\n",
    "signals_dict = {}\n",
    "for signal in root.findall(\".//VRecSignal\"):\n",
    "    name = signal.find(\"Name\").text\n",
    "    unit_name = signal.find(\"Unit/UnitName\").text\n",
    "    unit_multiplier = float(signal.find(\"Unit/Multiplier\").text)\n",
    "    unit_divisor = float(signal.find(\"Unit/Divisor\").text)\n",
    "    signals_dict[name] = {\n",
    "        \"unit_name\": unit_name,\n",
    "        \"unit_multiplier\": unit_multiplier,\n",
    "        \"unit_divisor\": unit_divisor\n",
    "    }\n",
    "# access the values for a specific key\n",
    "in0_unit_name = signals_dict[\"IN_0\"][\"unit_name\"]\n",
    "in0_unit_multiplier = signals_dict[\"IN_0\"][\"unit_multiplier\"]\n",
    "in0_unit_divisor = signals_dict[\"IN_0\"][\"unit_divisor\"]\n",
    "command_unit_name = signals_dict[\"Command\"][\"unit_name\"]\n",
    "command_unit_multiplier = signals_dict[\"Command\"][\"unit_multiplier\"]\n",
    "command_unit_divisor = signals_dict[\"Command\"][\"unit_divisor\"]\n",
    "print(signals_dict)\n",
    "\n",
    "\n",
    "fig, axs = plt.subplots(1,2, figsize=(12,5))\n",
    "\n",
    "axs[0].plot(recording['Time(ms)'], recording['IN_0']/in0_unit_divisor)\n",
    "axs[0].set_xlabel('Time (ms)')\n",
    "axs[0].set_ylabel(in0_unit_name)\n",
    "axs[0].set_title('IN_0')\n",
    "#axs[0].set_ylim(-80,200)\n",
    "axs[1].plot(recording['Time(ms)'], recording['Command']/command_unit_divisor)\n",
    "axs[1].set_xlabel('Time (ms)')\n",
    "axs[1].set_ylabel(command_unit_name)\n",
    "axs[1].set_title('Command')\n",
    "#axs[1].set_ylim(0,500)\n",
    "fig.tight_layout()"
   ]
  },
  {
   "cell_type": "code",
   "execution_count": 70,
   "outputs": [
    {
     "name": "stdout",
     "output_type": "stream",
     "text": [
      "Active channels in recording: ['Command', 'IN 0']\n"
     ]
    }
   ],
   "source": [
    "xml_protocol_file_name = '//mnt/raw_data/00_raw_data/2022-12-15/patch_voltage-008/patch_voltage-008_Cycle00001_VoltageOutput_001.xml'\n",
    "tree = ET.parse(xml_protocol_file_name)\n",
    "root = tree.getroot()\n",
    "# Get the names of the waveforms used in the recording\n",
    "waveform_names = {}\n",
    "\n",
    "for waveform in root.findall(\"Waveform//\"): # // Selects all subelements, on all levels beneath the current element\n",
    "    for name in waveform.findall(\"Name\"):\n",
    "        waveform_names[name] = name.text\n",
    "waveform_names = list(waveform_names.values())\n",
    "\n",
    "waveform_enabled = {}\n",
    "for waveform in root.findall(\"Waveform//\"):\n",
    "    for enabled in waveform.findall(\"Enabled//\"):\n",
    "        waveform_enabled[enabled] = enabled.text\n",
    "waveform_enabled = list(waveform_enabled.values())\n",
    "\n",
    "# Get the channel names in the recording\n",
    "channel_names = {}\n",
    "for channel in root.findall(\"Waveform\"):\n",
    "    for name in channel.findall(\"Name\"):\n",
    "        channel_names[name] = name.text\n",
    "channel_names = list(channel_names.values())\n",
    "\n",
    "\n",
    "# Get the units of each channel\n",
    "channel_units = {}\n",
    "for channel in root.findall(\"Waveform\"):\n",
    "    for unit in channel.findall(\"Units\"):\n",
    "        channel_units[unit] = unit.text\n",
    "channel_units = list(channel_units.values())\n",
    "\n",
    "# Get the channels that are actually in use\n",
    "channel_in_use = {}\n",
    "for channel in root.findall(\"Waveform\"):\n",
    "    for usage in channel.findall(\"Enabled\"):\n",
    "        channel_in_use[usage] = usage.text\n",
    "channel_in_use = list(channel_in_use.values())\n",
    "\n",
    "\n",
    "\n",
    "\n",
    "def _element_to_dict(element):\n",
    "    result = {}\n",
    "    for child in element:\n",
    "        if len(child) == 0:\n",
    "            result[child.tag] = child.text\n",
    "        else:\n",
    "            result[child.tag] = _element_to_dict(child)\n",
    "    return result if len(result) > 0 else None\n",
    "\n",
    "def parse_xml_file(xml_file):\n",
    "    tree = ET.parse(xml_file)\n",
    "    root = tree.getroot()\n",
    "    data_list = []\n",
    "    for element in root:\n",
    "        data_dict = _element_to_dict(element)\n",
    "        if data_dict:\n",
    "            data_list.append(data_dict)\n",
    "    return data_list\n",
    "\n",
    "data_list = parse_xml_file(xml_protocol_file_name)\n",
    "\n",
    "enabled_list = []\n",
    "for data_dict in data_list:\n",
    "    if data_dict.get(\"Enabled\") == \"true\":\n",
    "        enabled_list.append(data_dict.get('Name'))\n",
    "print(\"Active channels in recording: %s\" % enabled_list)"
   ],
   "metadata": {
    "collapsed": false
   }
  },
  {
   "cell_type": "code",
   "execution_count": 73,
   "outputs": [
    {
     "ename": "KeyError",
     "evalue": "'0'",
     "output_type": "error",
     "traceback": [
      "\u001B[0;31m---------------------------------------------------------------------------\u001B[0m",
      "\u001B[0;31mKeyError\u001B[0m                                  Traceback (most recent call last)",
      "Cell \u001B[0;32mIn[73], line 1\u001B[0m\n\u001B[0;32m----> 1\u001B[0m inner_value \u001B[38;5;241m=\u001B[39m \u001B[43mdata_list\u001B[49m\u001B[43m[\u001B[49m\u001B[38;5;241;43m0\u001B[39;49m\u001B[43m]\u001B[49m\u001B[43m[\u001B[49m\u001B[38;5;124;43m'\u001B[39;49m\u001B[38;5;124;43m0\u001B[39;49m\u001B[38;5;124;43m'\u001B[39;49m\u001B[43m]\u001B[49m[\u001B[38;5;124m'\u001B[39m\u001B[38;5;124mWaveformComponent\u001B[39m\u001B[38;5;124m'\u001B[39m]\n\u001B[1;32m      2\u001B[0m \u001B[38;5;28mprint\u001B[39m(inner_value)\n",
      "\u001B[0;31mKeyError\u001B[0m: '0'"
     ]
    }
   ],
   "source": [
    "inner_value = data_list[0]['0']['WaveformComponent']\n",
    "print(inner_value)"
   ],
   "metadata": {
    "collapsed": false
   }
  },
  {
   "cell_type": "code",
   "execution_count": 87,
   "outputs": [
    {
     "name": "stdout",
     "output_type": "stream",
     "text": [
      "{'Name': 'cc_steps', 'PulseCount': '5', 'PulseWidth': '250', 'PulseSpacing': '250', 'PulsePotentialStart': '0.25', 'PulsePotentialDelta': '0.25', 'RestPotential': '0', 'FirstPulseDelay': '250', 'Repetitions': '3', 'DelayBetweenReps': '2000', 'isLowTimeChecked': 'true'}\n"
     ]
    }
   ],
   "source": [
    "def enumerate_channels(channel_list):\n",
    "    \"\"\"\n",
    "    Separate each dictionary entry in a list into a new variable called channel_x where x is the index in the list.\n",
    "    :param channel_list: a list of dictionaries\n",
    "    :return: a dictionary with keys channel_1, channel_2, channel_3, etc.\n",
    "    \"\"\"\n",
    "    channel_dict = {}\n",
    "    for i, channel in enumerate(channel_list):\n",
    "        name = channel['Name']\n",
    "        channel_dict['channel_{}'.format(i)] = channel\n",
    "    return channel_dict\n",
    "channels = enumerate_channels(data_list)\n",
    "print(channels['channel_0']['WaveformComponent_PulseTrain'])"
   ],
   "metadata": {
    "collapsed": false
   }
  },
  {
   "cell_type": "code",
   "execution_count": 93,
   "outputs": [
    {
     "data": {
      "text/plain": "{'channel_0': ['WaveformComponent_PulseTrain'],\n 'channel_1': [],\n 'channel_2': ['WaveformComponent_PatchAmplifier'],\n 'channel_3': ['WaveformComponent_PulseTrain'],\n 'channel_4': [],\n 'channel_5': [],\n 'channel_6': [],\n 'channel_7': []}"
     },
     "execution_count": 93,
     "metadata": {},
     "output_type": "execute_result"
    }
   ],
   "source": [
    "def find_waveform_components(data_dict):\n",
    "    component_dict = {}\n",
    "    for dict_name, data in data_dict.items():\n",
    "        components = []\n",
    "        for key, value in data.items():\n",
    "            if isinstance(value, dict) and key.startswith('WaveformComponent_'):\n",
    "                components.append(key)\n",
    "        component_dict[dict_name] = components\n",
    "    return component_dict\n",
    "find_waveform_components(channels)"
   ],
   "metadata": {
    "collapsed": false
   }
  },
  {
   "cell_type": "code",
   "execution_count": 117,
   "outputs": [
    {
     "name": "stdout",
     "output_type": "stream",
     "text": [
      "{'IN_0': {'unit_name': 'mV', 'unit_multiplier': 1.0, 'unit_divisor': 0.01}, 'Command': {'unit_name': 'pA', 'unit_multiplier': 1.0, 'unit_divisor': 0.0005}, 'Input 2': {'unit_name': 'V', 'unit_multiplier': 1.0, 'unit_divisor': 0.001}, 'Input 3': {'unit_name': 'Volt', 'unit_multiplier': 1.0, 'unit_divisor': 1.0}, 'LED': {'unit_name': 'Volt', 'unit_multiplier': 1.0, 'unit_divisor': 1.0}, 'Locomotion': {'unit_name': 'Volt', 'unit_multiplier': 1.0, 'unit_divisor': 1.0}, 'Input 6': {'unit_name': 'Volt', 'unit_multiplier': 1.0, 'unit_divisor': 1.0}, 'Input 7': {'unit_name': 'Volt', 'unit_multiplier': 1.0, 'unit_divisor': 1.0}}\n",
      "['patch_voltage-008_Cycle00001_VoltageRecording_001']\n",
      "['2022-12-15T15:00:18.144625-05:00']\n",
      "20000\n"
     ]
    }
   ],
   "source": [
    "def parse_voltage_recording_xml(test_xml_file_name):\n",
    "    _tree = ET.parse(test_xml_file_name)\n",
    "    _root = _tree.getroot()\n",
    "    # create a dictionary of dictionaries for each VRecSignal node\n",
    "    _signals_dict = {}\n",
    "    rec_name = []\n",
    "    date_name = []\n",
    "    for signal in _root.findall(\".//VRecSignal\"):\n",
    "        name = signal.find(\"Name\").text\n",
    "        unit_name = signal.find(\"Unit/UnitName\").text\n",
    "        unit_multiplier = float(signal.find(\"Unit/Multiplier\").text)\n",
    "        unit_divisor = float(signal.find(\"Unit/Divisor\").text)\n",
    "        try:\n",
    "            unit_device = signal.find(\"Unit/PatchClampDevice\").text\n",
    "        except:\n",
    "            pass\n",
    "        try:\n",
    "            unit_channel = signal.find(\"Unit/PatchClampChannel\").text\n",
    "        except:\n",
    "            pass\n",
    "        signal_type = signal.find(\"Type\").text\n",
    "        signal_gain = float(signal.find(\"Gain\").text)\n",
    "        signal_channel_num = int(signal.find(\"Channel\").text)\n",
    "        signal_enabled = signal.find(\"Enabled\").text\n",
    "\n",
    "        _signals_dict[name] = {\n",
    "            \"unit_name\": unit_name,\n",
    "            \"unit_multiplier\": unit_multiplier,\n",
    "            \"unit_divisor\": unit_divisor\n",
    "        }\n",
    "    acquisition_time_ms = _root.find(\"Experiment/AcquisitionTime\").text\n",
    "    sampling_rate = _root.find(\"Experiment/Rate\").text\n",
    "    _recording_name = _root.find(\"DataFile\").text\n",
    "    _recording_datetime = _root.find(\"DateTime\").text\n",
    "    rec_name.append(_recording_name)\n",
    "    date_name.append(_recording_datetime)\n",
    "\n",
    "\n",
    "    return _signals_dict, rec_name, date_name, acquisition_time_ms\n",
    "\n",
    "\n",
    "voltage_rec_xml = '/mnt/raw_data/00_raw_data/2022-12-15/patch_voltage-008/patch_voltage-008_Cycle00001_VoltageRecording_001.xml'\n",
    "signal_list,recording_name, recording_datetime, acquisition_time = parse_voltage_recording_xml(voltage_rec_xml)\n",
    "print(signal_list)\n",
    "print(recording_name)\n",
    "print(recording_datetime)\n",
    "print(acquisition_time)"
   ],
   "metadata": {
    "collapsed": false
   }
  },
  {
   "cell_type": "code",
   "execution_count": 96,
   "outputs": [],
   "source": [
    "def enumerate_signals(signal_list):\n",
    "    \"\"\"\n",
    "    Separate each dictionary entry in a list into a new variable called channel_x where x is the index in the list.\n",
    "    :param channel_list: a list of dictionaries\n",
    "    :return: a dictionary with keys channel_1, channel_2, channel_3, etc.\n",
    "    \"\"\"\n",
    "    signal_dict = {}\n",
    "    for i, signal in enumerate(signal_list):\n",
    "        name = channel['Name']\n",
    "        signal_dict['signal_{}'.format(i)] = signal\n",
    "    return signal_dict\n",
    "signals = enumerate_signals(signal_list)"
   ],
   "metadata": {
    "collapsed": false
   }
  },
  {
   "cell_type": "code",
   "execution_count": 113,
   "outputs": [
    {
     "name": "stdout",
     "output_type": "stream",
     "text": [
      "<bound method NDFrame._add_numeric_operations.<locals>.max of 0             0.0\n",
      "1             0.1\n",
      "2             0.2\n",
      "3             0.3\n",
      "4             0.4\n",
      "           ...   \n",
      "199996    19999.6\n",
      "199997    19999.7\n",
      "199998    19999.8\n",
      "199999    19999.9\n",
      "200000    20000.0\n",
      "Name: Time(ms), Length: 200001, dtype: float64>\n"
     ]
    }
   ],
   "source": [
    "print(recording['Time(ms)'].max)"
   ],
   "metadata": {
    "collapsed": false
   }
  },
  {
   "cell_type": "code",
   "execution_count": 1,
   "outputs": [
    {
     "ename": "ModuleNotFoundError",
     "evalue": "No module named 'matplotlib'",
     "output_type": "error",
     "traceback": [
      "\u001B[0;31m---------------------------------------------------------------------------\u001B[0m",
      "\u001B[0;31mModuleNotFoundError\u001B[0m                       Traceback (most recent call last)",
      "Cell \u001B[0;32mIn[1], line 1\u001B[0m\n\u001B[0;32m----> 1\u001B[0m \u001B[38;5;28;01mimport\u001B[39;00m \u001B[38;5;21;01mmatplotlib\u001B[39;00m\u001B[38;5;21;01m.\u001B[39;00m\u001B[38;5;21;01mpyplot\u001B[39;00m \u001B[38;5;28;01mas\u001B[39;00m \u001B[38;5;21;01mplt\u001B[39;00m\n\u001B[1;32m      2\u001B[0m file_name \u001B[38;5;241m=\u001B[39m \u001B[38;5;124m'\u001B[39m\u001B[38;5;124m/mnt/raw_data/01_tiff_stacks/2022-12-15/patch_voltage-003/patch_voltage-003_Cycle00001_VoltageRecording_001.csv\u001B[39m\u001B[38;5;124m'\u001B[39m\n\u001B[1;32m      3\u001B[0m recording \u001B[38;5;241m=\u001B[39m pd\u001B[38;5;241m.\u001B[39mread_table(file_name, sep\u001B[38;5;241m=\u001B[39m\u001B[38;5;124mr\u001B[39m\u001B[38;5;124m'\u001B[39m\u001B[38;5;124m,\u001B[39m\u001B[38;5;124m'\u001B[39m, skipinitialspace\u001B[38;5;241m=\u001B[39m\u001B[38;5;28;01mTrue\u001B[39;00m)\n",
      "\u001B[0;31mModuleNotFoundError\u001B[0m: No module named 'matplotlib'"
     ]
    }
   ],
   "source": [
    "import matplotlib.pyplot as plt\n",
    "file_name = '/mnt/raw_data/01_tiff_stacks/2022-12-15/patch_voltage-003/patch_voltage-003_Cycle00001_VoltageRecording_001.csv'\n",
    "recording = pd.read_table(file_name, sep=r',', skipinitialspace=True)\n",
    "fig, axs = plt.subplots(1,2, figsize=(12,5))\n",
    "\n",
    "axs[0].plot(recording['Time(ms)'], recording['IN_0']/0.005)\n",
    "axs[0].set_xlabel('Time (ms)')\n",
    "axs[0].set_ylabel(in0_unit_name)\n",
    "axs[0].set_title('IN_0')"
   ],
   "metadata": {
    "collapsed": false
   }
  },
  {
   "cell_type": "code",
   "execution_count": null,
   "outputs": [],
   "source": [],
   "metadata": {
    "collapsed": false
   }
  }
 ],
 "metadata": {
  "kernelspec": {
   "display_name": "Python 3",
   "language": "python",
   "name": "python3"
  },
  "language_info": {
   "codemirror_mode": {
    "name": "ipython",
    "version": 2
   },
   "file_extension": ".py",
   "mimetype": "text/x-python",
   "name": "python",
   "nbconvert_exporter": "python",
   "pygments_lexer": "ipython2",
   "version": "2.7.6"
  }
 },
 "nbformat": 4,
 "nbformat_minor": 0
}
