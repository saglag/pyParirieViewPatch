{
 "cells": [
  {
   "cell_type": "code",
   "execution_count": 1,
   "metadata": {
    "collapsed": true
   },
   "outputs": [
    {
     "ename": "ModuleNotFoundError",
     "evalue": "No module named 'matplotlib'",
     "output_type": "error",
     "traceback": [
      "\u001B[0;31m---------------------------------------------------------------------------\u001B[0m",
      "\u001B[0;31mModuleNotFoundError\u001B[0m                       Traceback (most recent call last)",
      "Cell \u001B[0;32mIn[1], line 2\u001B[0m\n\u001B[1;32m      1\u001B[0m \u001B[38;5;28;01mimport\u001B[39;00m \u001B[38;5;21;01mpandas\u001B[39;00m \u001B[38;5;28;01mas\u001B[39;00m \u001B[38;5;21;01mpd\u001B[39;00m\n\u001B[0;32m----> 2\u001B[0m \u001B[38;5;28;01mimport\u001B[39;00m \u001B[38;5;21;01mmatplotlib\u001B[39;00m\u001B[38;5;21;01m.\u001B[39;00m\u001B[38;5;21;01mpyplot\u001B[39;00m \u001B[38;5;28;01mas\u001B[39;00m \u001B[38;5;21;01mplt\u001B[39;00m\n\u001B[1;32m      3\u001B[0m \u001B[38;5;28;01mimport\u001B[39;00m \u001B[38;5;21;01mxml\u001B[39;00m\u001B[38;5;21;01m.\u001B[39;00m\u001B[38;5;21;01metree\u001B[39;00m\u001B[38;5;21;01m.\u001B[39;00m\u001B[38;5;21;01mElementTree\u001B[39;00m \u001B[38;5;28;01mas\u001B[39;00m \u001B[38;5;21;01mET\u001B[39;00m\n\u001B[1;32m      5\u001B[0m parent_folder \u001B[38;5;241m=\u001B[39m \u001B[38;5;124m'\u001B[39m\u001B[38;5;124m/mnt/raw_data/00_raw_data/2023-04-16/\u001B[39m\u001B[38;5;124m'\u001B[39m\n",
      "\u001B[0;31mModuleNotFoundError\u001B[0m: No module named 'matplotlib'"
     ]
    }
   ],
   "source": [
    "import pandas as pd\n",
    "import matplotlib.pyplot as plt\n",
    "import xml.etree.ElementTree as ET\n",
    "\n",
    "parent_folder = '/mnt/raw_data/00_raw_data/2023-04-16/'\n",
    "patch_notes_file_name = '2023-04-18-simultaneous-info.csv'\n",
    "patch_csv_file_path = parent_folder + patch_notes_file_name\n",
    "patch_notes = pd.read_table(patch_csv_file_path, sep=r',', skipinitialspace=True)\n",
    "patch_notes.head(n=len(patch_notes))"
   ]
  },
  {
   "cell_type": "code",
   "execution_count": 19,
   "outputs": [],
   "source": [
    "import os\n",
    "import numpy as np\n",
    "import pathlib\n",
    "from typing import Union, List, Tuple\n",
    "import pandas as pd\n",
    "import xml_functions as xml\n",
    "\n",
    "class PATCH:\n",
    "    \"\"\"\n",
    "    The PATCH class provides access to the metadata (XML) and signal data (CSV) of the recording.\n",
    "    \"\"\"\n",
    "\n",
    "    def __init__(self,\n",
    "                 parent_xml_file_path: Union[str, pathlib.Path],\n",
    "                 load_data: bool = True):\n",
    "        \"\"\"\n",
    "        Load XML and CSV data from their respective files.\n",
    "        ### Parameters\n",
    "        1. parent_xml_file_path -- Path to the main xml file.\n",
    "        2. load_data -- Load the CSV and XML data files.\n",
    "        \"\"\"\n",
    "\n",
    "        if isinstance(parent_xml_file_path, pathlib.Path):\n",
    "            parent_xml_file_path = str(parent_xml_file_path)\n",
    "\n",
    "        if parent_xml_file_path.lower() and not parent_xml_file_path.endswith('.xml'):\n",
    "            raise Exception(\"Patch file must be an XML!\")\n",
    "\n",
    "        if os.path.isdir(parent_xml_file_path):\n",
    "            raise Exception(\"XML path must be a path to a FILE not a FOLDER.\")\n",
    "\n",
    "        self._preLoadData = load_data\n",
    "        self.parent_xml_file_path = os.path.abspath(parent_xml_file_path)\n",
    "        self.recording_info = xml.get_recording_info(parent_xml_file_path)\n",
    "\n",
    "        if not os.path.exists(self.parent_xml_file_path):\n",
    "            raise ValueError(\"XML file does not exist: %s\" % self.parent_xml_file_path)\n",
    "        self.patchID = os.path.splitext(os.path.basename(self.parent_xml_file_path))[0]\n",
    "\n",
    "        if self._preLoadData:\n",
    "            pass\n",
    "\n",
    "\n",
    "\n",
    "    def __str__(self):\n",
    "        \"\"\"\n",
    "        Return a string describing basic info of the loaded patch recording.\n",
    "        \"\"\"\n",
    "        txt = \"\"\"\n",
    "        Recording info:\n",
    "        PVScan (vVERSN),\n",
    "        Recorded on DATETIME,\n",
    "        Using acquisition type: ACQTYPE,\n",
    "        Data file: DATAFILE,\n",
    "        Configuration file: CONFIGFILE,\n",
    "        I/O file: VOLTOUTFILE\n",
    "        \"\"\".strip()\n",
    "        while \"  \" in txt:\n",
    "            txt = txt.replace(\"  \", \" \")\n",
    "\n",
    "        # Version info\n",
    "        txt = txt.replace(\"VERSN\", self.recording_info[\"PVScan version\"])\n",
    "\n",
    "        # Date and time of recording\n",
    "        txt = txt.replace(\"DATETIME\", self.recording_info[\"Date and time\"])\n",
    "\n",
    "        # Acquisition type\n",
    "        txt = txt.replace(\"ACQTYPE\", self.recording_info[\"Acquisition type\"])\n",
    "\n",
    "        # Patch data file\n",
    "        txt = txt.replace(\"DATAFILE\", self.recording_info[\"Patch data file\"])\n",
    "\n",
    "        # Configuration file\n",
    "        txt = txt.replace(\"CONFIGFILE\", self.recording_info[\"Configuration file\"])\n",
    "\n",
    "        # I/O file\n",
    "        txt = txt.replace(\"VOLTOUTFILE\", self.recording_info[\"VoltageOutput file\"])\n",
    "\n",
    "        return txt\n",
    "\n",
    "\n",
    "    def __repr__(self):\n",
    "        return f\" PATCH({self.parent_xml_file_path})\"\n",
    "\n",
    "\n",
    "\n"
   ],
   "metadata": {
    "collapsed": false
   }
  },
  {
   "cell_type": "code",
   "execution_count": 20,
   "outputs": [],
   "source": [
    "patch = PATCH('/mnt/raw_data/00_raw_data/2022-12-15/patch_voltage-005/patch_voltage-005.xml')"
   ],
   "metadata": {
    "collapsed": false
   }
  },
  {
   "cell_type": "code",
   "execution_count": 21,
   "outputs": [
    {
     "name": "stdout",
     "output_type": "stream",
     "text": [
      "Recording info:\n",
      " PVScan (v5.7.64.200),\n",
      " Recorded on 12/15/2022 2:55:57 PM,\n",
      " Using acquisition type: TSeries Timed Element,\n",
      " Data file: patch_voltage-005_Cycle00001_VoltageRecording_001.csv,\n",
      " Configuration file: patch_voltage-005_Cycle00001_VoltageRecording_001.xml,\n",
      " I/O file: patch_voltage-005_Cycle00001_VoltageOutput_001.xml\n",
      " PATCH(/mnt/raw_data/00_raw_data/2022-12-15/patch_voltage-005/patch_voltage-005.xml)\n"
     ]
    }
   ],
   "source": [
    "print(str(patch))\n",
    "print(repr(patch))\n"
   ],
   "metadata": {
    "collapsed": false
   }
  },
  {
   "cell_type": "code",
   "execution_count": null,
   "outputs": [],
   "source": [],
   "metadata": {
    "collapsed": false
   }
  }
 ],
 "metadata": {
  "kernelspec": {
   "display_name": "Python 3",
   "language": "python",
   "name": "python3"
  },
  "language_info": {
   "codemirror_mode": {
    "name": "ipython",
    "version": 2
   },
   "file_extension": ".py",
   "mimetype": "text/x-python",
   "name": "python",
   "nbconvert_exporter": "python",
   "pygments_lexer": "ipython2",
   "version": "2.7.6"
  }
 },
 "nbformat": 4,
 "nbformat_minor": 0
}
