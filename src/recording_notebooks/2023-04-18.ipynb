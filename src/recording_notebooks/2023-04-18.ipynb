{
 "cells": [
  {
   "cell_type": "code",
   "execution_count": 7,
   "metadata": {
    "collapsed": true
   },
   "outputs": [
    {
     "data": {
      "text/plain": "  experiment_date experiment_time experiment_type  cell_depth_in_microns   \n0      2023-04-18        17:01:47     Half Window                    103  \\\n\n  cell_region  isoflurane_percent  laser_power  height_in_pixels   \n0        Soma                1.75          110               106  \\\n\n   width_in_pixels  num_channels  ... membrane_capacitance  patch_region   \n0              105             2  ...                   56          Soma  \\\n\n  drug_administered drug_concentration route_of_admin   \n0               NaN                NaN            NaN  \\\n\n  drug_exposure_start_time  animal_id          imaging_file_name   \n0                 00:00:00   20240418  TSeries-04182023-1609-000  \\\n\n             ephys_file_name                                        notes  \n0  TSeries-04182023-1609-000  2 ul AlexaFluor 594 added to 1 ml internal.  \n\n[1 rows x 30 columns]",
      "text/html": "<div>\n<style scoped>\n    .dataframe tbody tr th:only-of-type {\n        vertical-align: middle;\n    }\n\n    .dataframe tbody tr th {\n        vertical-align: top;\n    }\n\n    .dataframe thead th {\n        text-align: right;\n    }\n</style>\n<table border=\"1\" class=\"dataframe\">\n  <thead>\n    <tr style=\"text-align: right;\">\n      <th></th>\n      <th>experiment_date</th>\n      <th>experiment_time</th>\n      <th>experiment_type</th>\n      <th>cell_depth_in_microns</th>\n      <th>cell_region</th>\n      <th>isoflurane_percent</th>\n      <th>laser_power</th>\n      <th>height_in_pixels</th>\n      <th>width_in_pixels</th>\n      <th>num_channels</th>\n      <th>...</th>\n      <th>membrane_capacitance</th>\n      <th>patch_region</th>\n      <th>drug_administered</th>\n      <th>drug_concentration</th>\n      <th>route_of_admin</th>\n      <th>drug_exposure_start_time</th>\n      <th>animal_id</th>\n      <th>imaging_file_name</th>\n      <th>ephys_file_name</th>\n      <th>notes</th>\n    </tr>\n  </thead>\n  <tbody>\n    <tr>\n      <th>0</th>\n      <td>2023-04-18</td>\n      <td>17:01:47</td>\n      <td>Half Window</td>\n      <td>103</td>\n      <td>Soma</td>\n      <td>1.75</td>\n      <td>110</td>\n      <td>106</td>\n      <td>105</td>\n      <td>2</td>\n      <td>...</td>\n      <td>56</td>\n      <td>Soma</td>\n      <td>NaN</td>\n      <td>NaN</td>\n      <td>NaN</td>\n      <td>00:00:00</td>\n      <td>20240418</td>\n      <td>TSeries-04182023-1609-000</td>\n      <td>TSeries-04182023-1609-000</td>\n      <td>2 ul AlexaFluor 594 added to 1 ml internal.</td>\n    </tr>\n  </tbody>\n</table>\n<p>1 rows × 30 columns</p>\n</div>"
     },
     "execution_count": 7,
     "metadata": {},
     "output_type": "execute_result"
    }
   ],
   "source": [
    "import pandas as pd\n",
    "parent_folder = '/mnt/raw_data/00_raw_data/2023-04-18/'\n",
    "patch_notes_file_name = '2023-04-18-simultaneous-info.csv'\n",
    "csv_rec = '/TSeries-04182023-1609-000/TSeries-04182023-1609-000_Cycle00001_VoltageRecording_001.csv'\n",
    "patch_info_file_path = parent_folder + patch_notes_file_name\n",
    "patch_rec_file_path = parent_folder + csv_rec\n",
    "patch_notes = pd.read_table(patch_info_file_path, sep=r',', skipinitialspace=True)\n",
    "patch_data = pd.read_table(patch_rec_file_path, sep=r',', skipinitialspace=True)\n",
    "patch_notes.head(n=len(patch_notes))"
   ]
  },
  {
   "cell_type": "code",
   "execution_count": 9,
   "outputs": [
    {
     "data": {
      "text/plain": "   Time(ms)      IN_0   Command\n0       0.0  0.031738 -0.691223\n1       0.1  0.035400 -0.692444\n2       0.2  0.036621 -0.693054\n3       0.3  0.027771 -0.692749\n4       0.4  0.035095 -0.691528",
      "text/html": "<div>\n<style scoped>\n    .dataframe tbody tr th:only-of-type {\n        vertical-align: middle;\n    }\n\n    .dataframe tbody tr th {\n        vertical-align: top;\n    }\n\n    .dataframe thead th {\n        text-align: right;\n    }\n</style>\n<table border=\"1\" class=\"dataframe\">\n  <thead>\n    <tr style=\"text-align: right;\">\n      <th></th>\n      <th>Time(ms)</th>\n      <th>IN_0</th>\n      <th>Command</th>\n    </tr>\n  </thead>\n  <tbody>\n    <tr>\n      <th>0</th>\n      <td>0.0</td>\n      <td>0.031738</td>\n      <td>-0.691223</td>\n    </tr>\n    <tr>\n      <th>1</th>\n      <td>0.1</td>\n      <td>0.035400</td>\n      <td>-0.692444</td>\n    </tr>\n    <tr>\n      <th>2</th>\n      <td>0.2</td>\n      <td>0.036621</td>\n      <td>-0.693054</td>\n    </tr>\n    <tr>\n      <th>3</th>\n      <td>0.3</td>\n      <td>0.027771</td>\n      <td>-0.692749</td>\n    </tr>\n    <tr>\n      <th>4</th>\n      <td>0.4</td>\n      <td>0.035095</td>\n      <td>-0.691528</td>\n    </tr>\n  </tbody>\n</table>\n</div>"
     },
     "execution_count": 9,
     "metadata": {},
     "output_type": "execute_result"
    }
   ],
   "source": [
    "patch_data.head()\n",
    "in0_divisor =\n",
    "command_divisor ="
   ],
   "metadata": {
    "collapsed": false
   }
  },
  {
   "cell_type": "code",
   "execution_count": null,
   "outputs": [],
   "source": [],
   "metadata": {
    "collapsed": false
   }
  }
 ],
 "metadata": {
  "kernelspec": {
   "display_name": "Python 3",
   "language": "python",
   "name": "python3"
  },
  "language_info": {
   "codemirror_mode": {
    "name": "ipython",
    "version": 2
   },
   "file_extension": ".py",
   "mimetype": "text/x-python",
   "name": "python",
   "nbconvert_exporter": "python",
   "pygments_lexer": "ipython2",
   "version": "2.7.6"
  }
 },
 "nbformat": 4,
 "nbformat_minor": 0
}
